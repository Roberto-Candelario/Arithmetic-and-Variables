{
 "cells": [
  {
   "cell_type": "markdown",
   "id": "db85bbb0",
   "metadata": {
    "papermill": {
     "duration": 0.007822,
     "end_time": "2022-07-25T05:16:10.698089",
     "exception": false,
     "start_time": "2022-07-25T05:16:10.690267",
     "status": "completed"
    },
    "tags": []
   },
   "source": [
    "**This notebook is an exercise in the [Intro to Programming](https://www.kaggle.com/learn/intro-to-programming) course.  You can reference the tutorial at [this link](https://www.kaggle.com/alexisbcook/functions).**\n",
    "\n",
    "---\n"
   ]
  },
  {
   "cell_type": "markdown",
   "id": "84a60a7c",
   "metadata": {
    "papermill": {
     "duration": 0.006756,
     "end_time": "2022-07-25T05:16:10.711518",
     "exception": false,
     "start_time": "2022-07-25T05:16:10.704762",
     "status": "completed"
    },
    "tags": []
   },
   "source": [
    "In the tutorial, you learned about functions. In this exercise, you'll write some of your own!\n",
    "\n",
    "# Set up the notebook\n",
    "\n",
    "Run the next code cell without changes to set up the notebook."
   ]
  },
  {
   "cell_type": "code",
   "execution_count": 1,
   "id": "31b41b20",
   "metadata": {
    "execution": {
     "iopub.execute_input": "2022-07-25T05:16:10.727765Z",
     "iopub.status.busy": "2022-07-25T05:16:10.727140Z",
     "iopub.status.idle": "2022-07-25T05:16:10.796627Z",
     "shell.execute_reply": "2022-07-25T05:16:10.795436Z"
    },
    "papermill": {
     "duration": 0.082467,
     "end_time": "2022-07-25T05:16:10.800866",
     "exception": false,
     "start_time": "2022-07-25T05:16:10.718399",
     "status": "completed"
    },
    "tags": []
   },
   "outputs": [
    {
     "name": "stdout",
     "output_type": "stream",
     "text": [
      "Setup complete.\n"
     ]
    }
   ],
   "source": [
    "# Set up the exercise\n",
    "import math\n",
    "from learntools.core import binder\n",
    "binder.bind(globals())\n",
    "from learntools.intro_to_programming.ex2 import *\n",
    "print('Setup complete.')"
   ]
  },
  {
   "cell_type": "markdown",
   "id": "685ffd39",
   "metadata": {
    "papermill": {
     "duration": 0.006786,
     "end_time": "2022-07-25T05:16:10.814682",
     "exception": false,
     "start_time": "2022-07-25T05:16:10.807896",
     "status": "completed"
    },
    "tags": []
   },
   "source": [
    "# Question 1\n",
    "\n",
    "In the [House Prices - Advanced Regression Techniques competition](https://www.kaggle.com/c/house-prices-advanced-regression-techniques/overview), you need to use information like the number of bedrooms and bathrooms to predict the price of a house.  Inspired by this competition, you'll write your own function to do this.\n",
    "\n",
    "In the next code cell, create a function `get_expected_cost()` that has two arguments:\n",
    "- `beds` - number of bedrooms \n",
    "- `baths` - number of bathrooms\n",
    "\n",
    "It should return the expected cost of a house with that number of bedrooms and bathrooms.  Assume that:\n",
    "- the expected cost for a house with 0 bedrooms and 0 bathrooms is `80000`.  \n",
    "- each bedroom adds `30000` to the expected cost\n",
    "- each bathroom adds `10000` to the expected cost.\n",
    "\n",
    "For instance, \n",
    "- a house with 1 bedroom and 1 bathroom has an expected cost of `120000`, and \n",
    "- a house with 2 bedrooms and 1 bathroom has an expected cost of `150000`."
   ]
  },
  {
   "cell_type": "code",
   "execution_count": 2,
   "id": "a1a3a698",
   "metadata": {
    "execution": {
     "iopub.execute_input": "2022-07-25T05:16:10.830708Z",
     "iopub.status.busy": "2022-07-25T05:16:10.830266Z",
     "iopub.status.idle": "2022-07-25T05:16:10.843375Z",
     "shell.execute_reply": "2022-07-25T05:16:10.842197Z"
    },
    "papermill": {
     "duration": 0.023952,
     "end_time": "2022-07-25T05:16:10.845673",
     "exception": false,
     "start_time": "2022-07-25T05:16:10.821721",
     "status": "completed"
    },
    "tags": []
   },
   "outputs": [
    {
     "data": {
      "application/javascript": [
       "parent.postMessage({\"jupyterEvent\": \"custom.exercise_interaction\", \"data\": {\"outcomeType\": 1, \"valueTowardsCompletion\": 0.2, \"interactionType\": 1, \"questionType\": 2, \"questionId\": \"1_GetExpectedCost\", \"learnToolsVersion\": \"0.3.4\", \"failureMessage\": \"\", \"exceptionClass\": \"\", \"trace\": \"\"}}, \"*\")"
      ],
      "text/plain": [
       "<IPython.core.display.Javascript object>"
      ]
     },
     "metadata": {},
     "output_type": "display_data"
    },
    {
     "data": {
      "text/markdown": [
       "<span style=\"color:#33cc33\">Correct</span>"
      ],
      "text/plain": [
       "Correct"
      ]
     },
     "metadata": {},
     "output_type": "display_data"
    }
   ],
   "source": [
    "# TODO: Complete the function\n",
    "def get_expected_cost(beds, baths):\n",
    "    value = 80000 + (beds * 30000) + (baths * 10000)\n",
    "    return value\n",
    "\n",
    "# Check your answer \n",
    "q1.check()"
   ]
  },
  {
   "cell_type": "code",
   "execution_count": 3,
   "id": "15d923f2",
   "metadata": {
    "execution": {
     "iopub.execute_input": "2022-07-25T05:16:10.861228Z",
     "iopub.status.busy": "2022-07-25T05:16:10.860815Z",
     "iopub.status.idle": "2022-07-25T05:16:10.866139Z",
     "shell.execute_reply": "2022-07-25T05:16:10.864796Z"
    },
    "papermill": {
     "duration": 0.015886,
     "end_time": "2022-07-25T05:16:10.868417",
     "exception": false,
     "start_time": "2022-07-25T05:16:10.852531",
     "status": "completed"
    },
    "tags": []
   },
   "outputs": [],
   "source": [
    "# Uncomment to see a hint\n",
    "#q1.hint()\n",
    "\n",
    "# Uncomment to view the solution\n",
    "#q1.solution()"
   ]
  },
  {
   "cell_type": "markdown",
   "id": "bb03ebb4",
   "metadata": {
    "papermill": {
     "duration": 0.006986,
     "end_time": "2022-07-25T05:16:10.882447",
     "exception": false,
     "start_time": "2022-07-25T05:16:10.875461",
     "status": "completed"
    },
    "tags": []
   },
   "source": [
    "# Question 2\n",
    "\n",
    "You are thinking about buying a home and want to get an idea of how much you will spend, based on the number of bedrooms and bathrooms.  You are trying to decide between four different options:\n",
    "- Option 1: house with two bedrooms and three bathrooms\n",
    "- Option 2: house with three bedrooms and two bathrooms\n",
    "- Option 3: house with three bedrooms and three bathrooms\n",
    "- Option 4: house with three bedrooms and four bathrooms\n",
    "\n",
    "Use the `get_expected_cost()` function you defined in question 1 to set `option_1`, `option_2`, `option_3`, and `option_4` to the expected cost of each option."
   ]
  },
  {
   "cell_type": "code",
   "execution_count": 4,
   "id": "88a3c6fd",
   "metadata": {
    "execution": {
     "iopub.execute_input": "2022-07-25T05:16:10.898474Z",
     "iopub.status.busy": "2022-07-25T05:16:10.898109Z",
     "iopub.status.idle": "2022-07-25T05:16:10.911461Z",
     "shell.execute_reply": "2022-07-25T05:16:10.909890Z"
    },
    "papermill": {
     "duration": 0.024653,
     "end_time": "2022-07-25T05:16:10.914066",
     "exception": false,
     "start_time": "2022-07-25T05:16:10.889413",
     "status": "completed"
    },
    "tags": []
   },
   "outputs": [
    {
     "name": "stdout",
     "output_type": "stream",
     "text": [
      "170000\n",
      "190000\n",
      "200000\n",
      "210000\n"
     ]
    },
    {
     "data": {
      "application/javascript": [
       "parent.postMessage({\"jupyterEvent\": \"custom.exercise_interaction\", \"data\": {\"outcomeType\": 1, \"valueTowardsCompletion\": 0.2, \"interactionType\": 1, \"questionType\": 1, \"questionId\": \"2_RunGetExpectedCost\", \"learnToolsVersion\": \"0.3.4\", \"failureMessage\": \"\", \"exceptionClass\": \"\", \"trace\": \"\"}}, \"*\")"
      ],
      "text/plain": [
       "<IPython.core.display.Javascript object>"
      ]
     },
     "metadata": {},
     "output_type": "display_data"
    },
    {
     "data": {
      "text/markdown": [
       "<span style=\"color:#33cc33\">Correct</span>"
      ],
      "text/plain": [
       "Correct"
      ]
     },
     "metadata": {},
     "output_type": "display_data"
    }
   ],
   "source": [
    "# TODO: Use the get_expected_cost function to fill in each value\n",
    "option_one = get_expected_cost(2, 3)\n",
    "option_two = get_expected_cost(3, 2)\n",
    "option_three = get_expected_cost(3, 3)\n",
    "option_four = get_expected_cost(3, 4)\n",
    "\n",
    "print(option_one)\n",
    "print(option_two)\n",
    "print(option_three)\n",
    "print(option_four)\n",
    "\n",
    "# Check your answer\n",
    "q2.check()"
   ]
  },
  {
   "cell_type": "code",
   "execution_count": 5,
   "id": "6163fd47",
   "metadata": {
    "execution": {
     "iopub.execute_input": "2022-07-25T05:16:10.932192Z",
     "iopub.status.busy": "2022-07-25T05:16:10.930173Z",
     "iopub.status.idle": "2022-07-25T05:16:10.936333Z",
     "shell.execute_reply": "2022-07-25T05:16:10.935463Z"
    },
    "papermill": {
     "duration": 0.017325,
     "end_time": "2022-07-25T05:16:10.938717",
     "exception": false,
     "start_time": "2022-07-25T05:16:10.921392",
     "status": "completed"
    },
    "tags": []
   },
   "outputs": [],
   "source": [
    "# Uncomment to see a hint\n",
    "#q2.hint()\n",
    "\n",
    "# Uncomment to view the solution\n",
    "#q2.solution()"
   ]
  },
  {
   "cell_type": "markdown",
   "id": "bfa79523",
   "metadata": {
    "papermill": {
     "duration": 0.007003,
     "end_time": "2022-07-25T05:16:10.953318",
     "exception": false,
     "start_time": "2022-07-25T05:16:10.946315",
     "status": "completed"
    },
    "tags": []
   },
   "source": [
    "# Question 3\n",
    "\n",
    "You're a home decorator, and you'd like to use Python to streamline some of your work.  Specifically, you're creating a tool that you intend to use to calculate the cost of painting a room.\n",
    "\n",
    "As a first step, define a function `get_cost()` that takes as input:\n",
    "- `sqft_walls` = total square feet of walls to be painted\n",
    "- `sqft_ceiling` = square feet of ceiling to be painted\n",
    "- `sqft_per_gallon` = number of square feet that you can cover with one gallon of paint\n",
    "- `cost_per_gallon` = cost (in dollars) of one gallon of paint\n",
    "\n",
    "It should return the cost (in dollars) of putting one coat of paint on all walls and the ceiling.  Assume you can buy the exact amount of paint that you need, so you can buy partial gallons (e.g., if you need 7.523 gallons, you can buy that exact amount, instead of needing to buy 8 gallons and waste some paint).  Do not round your answer."
   ]
  },
  {
   "cell_type": "code",
   "execution_count": 6,
   "id": "26370c9e",
   "metadata": {
    "execution": {
     "iopub.execute_input": "2022-07-25T05:16:10.969765Z",
     "iopub.status.busy": "2022-07-25T05:16:10.969342Z",
     "iopub.status.idle": "2022-07-25T05:16:10.977972Z",
     "shell.execute_reply": "2022-07-25T05:16:10.977151Z"
    },
    "papermill": {
     "duration": 0.019408,
     "end_time": "2022-07-25T05:16:10.979956",
     "exception": false,
     "start_time": "2022-07-25T05:16:10.960548",
     "status": "completed"
    },
    "tags": []
   },
   "outputs": [
    {
     "data": {
      "application/javascript": [
       "parent.postMessage({\"jupyterEvent\": \"custom.exercise_interaction\", \"data\": {\"outcomeType\": 1, \"valueTowardsCompletion\": 0.2, \"interactionType\": 1, \"questionType\": 2, \"questionId\": \"3_GetCostPaint\", \"learnToolsVersion\": \"0.3.4\", \"failureMessage\": \"\", \"exceptionClass\": \"\", \"trace\": \"\"}}, \"*\")"
      ],
      "text/plain": [
       "<IPython.core.display.Javascript object>"
      ]
     },
     "metadata": {},
     "output_type": "display_data"
    },
    {
     "data": {
      "text/markdown": [
       "<span style=\"color:#33cc33\">Correct</span>"
      ],
      "text/plain": [
       "Correct"
      ]
     },
     "metadata": {},
     "output_type": "display_data"
    }
   ],
   "source": [
    "# TODO: Finish defining the function\n",
    "def get_cost(sqft_walls, sqft_ceiling, sqft_per_gallon, cost_per_gallon):\n",
    "    sqft = sqft_walls + sqft_ceiling\n",
    "    gallons_needed = sqft / sqft_per_gallon\n",
    "    cost = cost_per_gallon * gallons_needed\n",
    "    return cost\n",
    "\n",
    "# Check your answer\n",
    "q3.check()"
   ]
  },
  {
   "cell_type": "code",
   "execution_count": 7,
   "id": "365747ac",
   "metadata": {
    "execution": {
     "iopub.execute_input": "2022-07-25T05:16:10.997241Z",
     "iopub.status.busy": "2022-07-25T05:16:10.996110Z",
     "iopub.status.idle": "2022-07-25T05:16:11.001161Z",
     "shell.execute_reply": "2022-07-25T05:16:11.000026Z"
    },
    "papermill": {
     "duration": 0.016034,
     "end_time": "2022-07-25T05:16:11.003502",
     "exception": false,
     "start_time": "2022-07-25T05:16:10.987468",
     "status": "completed"
    },
    "tags": []
   },
   "outputs": [],
   "source": [
    "# Uncomment to see a hint\n",
    "#q3.solution()"
   ]
  },
  {
   "cell_type": "markdown",
   "id": "14460bf4",
   "metadata": {
    "papermill": {
     "duration": 0.007943,
     "end_time": "2022-07-25T05:16:11.019074",
     "exception": false,
     "start_time": "2022-07-25T05:16:11.011131",
     "status": "completed"
    },
    "tags": []
   },
   "source": [
    "# Question 4\n",
    "\n",
    "Use the `get_cost()` function you defined in Question 3 to calculate the cost of applying one coat of paint to a room with:\n",
    "- 432 square feet of walls, and\n",
    "- 144 square feet of ceiling.\n",
    "\n",
    "Assume that one gallon of paint covers 400 square feet and costs $15.  As in Question 3, assume you can buy partial gallons of paint.  Do not round your answer."
   ]
  },
  {
   "cell_type": "code",
   "execution_count": 8,
   "id": "20d99482",
   "metadata": {
    "execution": {
     "iopub.execute_input": "2022-07-25T05:16:11.036827Z",
     "iopub.status.busy": "2022-07-25T05:16:11.035699Z",
     "iopub.status.idle": "2022-07-25T05:16:11.046003Z",
     "shell.execute_reply": "2022-07-25T05:16:11.044835Z"
    },
    "papermill": {
     "duration": 0.021526,
     "end_time": "2022-07-25T05:16:11.048346",
     "exception": false,
     "start_time": "2022-07-25T05:16:11.026820",
     "status": "completed"
    },
    "tags": []
   },
   "outputs": [
    {
     "data": {
      "application/javascript": [
       "parent.postMessage({\"jupyterEvent\": \"custom.exercise_interaction\", \"data\": {\"outcomeType\": 1, \"valueTowardsCompletion\": 0.2, \"interactionType\": 1, \"questionType\": 1, \"questionId\": \"4_GetCostPaintExample\", \"learnToolsVersion\": \"0.3.4\", \"failureMessage\": \"\", \"exceptionClass\": \"\", \"trace\": \"\"}}, \"*\")"
      ],
      "text/plain": [
       "<IPython.core.display.Javascript object>"
      ]
     },
     "metadata": {},
     "output_type": "display_data"
    },
    {
     "data": {
      "text/markdown": [
       "<span style=\"color:#33cc33\">Correct</span>"
      ],
      "text/plain": [
       "Correct"
      ]
     },
     "metadata": {},
     "output_type": "display_data"
    }
   ],
   "source": [
    "# TODO: Set the project_cost variable to the cost of the project\n",
    "project_cost = get_cost(432, 144, 400, 15)\n",
    "\n",
    "# Check your answer\n",
    "q4.check()"
   ]
  },
  {
   "cell_type": "code",
   "execution_count": 9,
   "id": "da8c7a60",
   "metadata": {
    "execution": {
     "iopub.execute_input": "2022-07-25T05:16:11.066304Z",
     "iopub.status.busy": "2022-07-25T05:16:11.065632Z",
     "iopub.status.idle": "2022-07-25T05:16:11.069342Z",
     "shell.execute_reply": "2022-07-25T05:16:11.068595Z"
    },
    "papermill": {
     "duration": 0.015188,
     "end_time": "2022-07-25T05:16:11.071444",
     "exception": false,
     "start_time": "2022-07-25T05:16:11.056256",
     "status": "completed"
    },
    "tags": []
   },
   "outputs": [],
   "source": [
    "# Uncomment to see a hint\n",
    "#q4.hint()\n",
    "\n",
    "# Uncomment to view the solution\n",
    "#q4.solution()"
   ]
  },
  {
   "cell_type": "markdown",
   "id": "53898885",
   "metadata": {
    "papermill": {
     "duration": 0.007757,
     "end_time": "2022-07-25T05:16:11.087173",
     "exception": false,
     "start_time": "2022-07-25T05:16:11.079416",
     "status": "completed"
    },
    "tags": []
   },
   "source": [
    "# 🌶️ Question 5\n",
    "\n",
    "Now say you can no longer buy fractions of a gallon.  (For instance, if you need 4.3 gallons to do a project, then you have to buy 5 gallons of paint.)\n",
    "\n",
    "With this new scenario, you will create a new function `get_actual_cost` that uses the same inputs and calculates the cost of your project.\n",
    "\n",
    "One function that you'll need to use to do this is `math.ceil()`.  We demonstrate usage of this function in the code cell below.  It takes as a number as input and rounds the number up to the nearest integer.  \n",
    "\n",
    "Run the next code cell to test this function for yourself.  Feel free to change the value of `test_value` and make sure `math.ceil()` returns the number you expect."
   ]
  },
  {
   "cell_type": "code",
   "execution_count": 10,
   "id": "2bf7cf54",
   "metadata": {
    "execution": {
     "iopub.execute_input": "2022-07-25T05:16:11.105483Z",
     "iopub.status.busy": "2022-07-25T05:16:11.104852Z",
     "iopub.status.idle": "2022-07-25T05:16:11.111330Z",
     "shell.execute_reply": "2022-07-25T05:16:11.109936Z"
    },
    "papermill": {
     "duration": 0.01821,
     "end_time": "2022-07-25T05:16:11.113548",
     "exception": false,
     "start_time": "2022-07-25T05:16:11.095338",
     "status": "completed"
    },
    "tags": []
   },
   "outputs": [
    {
     "name": "stdout",
     "output_type": "stream",
     "text": [
      "3\n"
     ]
    }
   ],
   "source": [
    "test_value = 2.17\n",
    "\n",
    "def get_actual_cost(sqft_walls, sqft_ceiling, sqft_per_gallon, cost_per_gallon):\n",
    "    sqft = sqft_walls + sqft_ceiling\n",
    "    gallons_needed = sqft / sqft_per_gallon\n",
    "    cost = cost_per_gallon * gallons_needed\n",
    "    return cost\n",
    "\n",
    "rounded_value = math.ceil(test_value)\n",
    "print(rounded_value)"
   ]
  },
  {
   "cell_type": "markdown",
   "id": "335856bf",
   "metadata": {
    "papermill": {
     "duration": 0.007602,
     "end_time": "2022-07-25T05:16:11.129105",
     "exception": false,
     "start_time": "2022-07-25T05:16:11.121503",
     "status": "completed"
    },
    "tags": []
   },
   "source": [
    "Use the next code cell to define the function `get_actual_cost()`.  You'll need to use the `math.ceil()` function to do this.\n",
    "\n",
    "When answering this question, note that it's completely valid to define a function that makes use of another function.  For instance, we can define a function `round_up_and_divide_by_three` that makes use of the `math.ceil` function:\n",
    "```\n",
    "def round_up_and_divide_by_three(num):\n",
    "    new_value = math.ceil(num)\n",
    "    final_value = new_value / 3\n",
    "    return final_value\n",
    "```"
   ]
  },
  {
   "cell_type": "code",
   "execution_count": 11,
   "id": "a8cf0abc",
   "metadata": {
    "execution": {
     "iopub.execute_input": "2022-07-25T05:16:11.146992Z",
     "iopub.status.busy": "2022-07-25T05:16:11.146157Z",
     "iopub.status.idle": "2022-07-25T05:16:11.154390Z",
     "shell.execute_reply": "2022-07-25T05:16:11.153622Z"
    },
    "papermill": {
     "duration": 0.019649,
     "end_time": "2022-07-25T05:16:11.156651",
     "exception": false,
     "start_time": "2022-07-25T05:16:11.137002",
     "status": "completed"
    },
    "tags": []
   },
   "outputs": [
    {
     "data": {
      "application/javascript": [
       "parent.postMessage({\"jupyterEvent\": \"custom.exercise_interaction\", \"data\": {\"outcomeType\": 1, \"valueTowardsCompletion\": 0.2, \"interactionType\": 1, \"questionType\": 2, \"questionId\": \"5_NoMoreFractions\", \"learnToolsVersion\": \"0.3.4\", \"failureMessage\": \"\", \"exceptionClass\": \"\", \"trace\": \"\"}}, \"*\")"
      ],
      "text/plain": [
       "<IPython.core.display.Javascript object>"
      ]
     },
     "metadata": {},
     "output_type": "display_data"
    },
    {
     "data": {
      "text/markdown": [
       "<span style=\"color:#33cc33\">Correct</span>"
      ],
      "text/plain": [
       "Correct"
      ]
     },
     "metadata": {},
     "output_type": "display_data"
    }
   ],
   "source": [
    "def get_actual_cost(sqft_walls, sqft_ceiling, sqft_per_gallon, cost_per_gallon):\n",
    "    sqft = sqft_walls + sqft_ceiling\n",
    "    gallons_needed = math.ceil(sqft / sqft_per_gallon)\n",
    "    cost = cost_per_gallon * gallons_needed\n",
    "    return cost\n",
    "\n",
    "# Check your answer\n",
    "q5.check()"
   ]
  },
  {
   "cell_type": "code",
   "execution_count": 12,
   "id": "e8566aeb",
   "metadata": {
    "execution": {
     "iopub.execute_input": "2022-07-25T05:16:11.175255Z",
     "iopub.status.busy": "2022-07-25T05:16:11.174521Z",
     "iopub.status.idle": "2022-07-25T05:16:11.178735Z",
     "shell.execute_reply": "2022-07-25T05:16:11.177935Z"
    },
    "papermill": {
     "duration": 0.016076,
     "end_time": "2022-07-25T05:16:11.180976",
     "exception": false,
     "start_time": "2022-07-25T05:16:11.164900",
     "status": "completed"
    },
    "tags": []
   },
   "outputs": [],
   "source": [
    "# Uncomment to see a hint\n",
    "#q5.hint()\n",
    "\n",
    "# Uncomment to view the solution\n",
    "#q5.solution()"
   ]
  },
  {
   "cell_type": "markdown",
   "id": "f0727ca3",
   "metadata": {
    "papermill": {
     "duration": 0.00815,
     "end_time": "2022-07-25T05:16:11.197567",
     "exception": false,
     "start_time": "2022-07-25T05:16:11.189417",
     "status": "completed"
    },
    "tags": []
   },
   "source": [
    "Once your function is verified as correct, run the next code cell to calculate the updated cost of your project."
   ]
  },
  {
   "cell_type": "code",
   "execution_count": 13,
   "id": "44e5444a",
   "metadata": {
    "execution": {
     "iopub.execute_input": "2022-07-25T05:16:11.216934Z",
     "iopub.status.busy": "2022-07-25T05:16:11.216135Z",
     "iopub.status.idle": "2022-07-25T05:16:11.223118Z",
     "shell.execute_reply": "2022-07-25T05:16:11.221987Z"
    },
    "papermill": {
     "duration": 0.019555,
     "end_time": "2022-07-25T05:16:11.225715",
     "exception": false,
     "start_time": "2022-07-25T05:16:11.206160",
     "status": "completed"
    },
    "tags": []
   },
   "outputs": [
    {
     "data": {
      "text/plain": [
       "30"
      ]
     },
     "execution_count": 13,
     "metadata": {},
     "output_type": "execute_result"
    }
   ],
   "source": [
    "get_actual_cost(432, 144, 400, 15) "
   ]
  },
  {
   "cell_type": "markdown",
   "id": "bfdc3608",
   "metadata": {
    "papermill": {
     "duration": 0.008441,
     "end_time": "2022-07-25T05:16:11.243008",
     "exception": false,
     "start_time": "2022-07-25T05:16:11.234567",
     "status": "completed"
    },
    "tags": []
   },
   "source": [
    "Say you're working with a slightly larger room.  Run the next code cell to calculate the cost of the project."
   ]
  },
  {
   "cell_type": "code",
   "execution_count": 14,
   "id": "f0988da9",
   "metadata": {
    "execution": {
     "iopub.execute_input": "2022-07-25T05:16:11.262631Z",
     "iopub.status.busy": "2022-07-25T05:16:11.262222Z",
     "iopub.status.idle": "2022-07-25T05:16:11.268895Z",
     "shell.execute_reply": "2022-07-25T05:16:11.267938Z"
    },
    "papermill": {
     "duration": 0.018817,
     "end_time": "2022-07-25T05:16:11.270897",
     "exception": false,
     "start_time": "2022-07-25T05:16:11.252080",
     "status": "completed"
    },
    "tags": []
   },
   "outputs": [
    {
     "data": {
      "text/plain": [
       "45"
      ]
     },
     "execution_count": 14,
     "metadata": {},
     "output_type": "execute_result"
    }
   ],
   "source": [
    "get_actual_cost(594, 288, 400, 15) "
   ]
  },
  {
   "cell_type": "markdown",
   "id": "b96a3e8a",
   "metadata": {
    "papermill": {
     "duration": 0.008287,
     "end_time": "2022-07-25T05:16:11.287774",
     "exception": false,
     "start_time": "2022-07-25T05:16:11.279487",
     "status": "completed"
    },
    "tags": []
   },
   "source": [
    "# Keep going\n",
    "\n",
    "Continue to learn about **[data types](https://www.kaggle.com/alexisbcook/data-types)**."
   ]
  },
  {
   "cell_type": "markdown",
   "id": "f46d41e0",
   "metadata": {
    "papermill": {
     "duration": 0.007997,
     "end_time": "2022-07-25T05:16:11.304118",
     "exception": false,
     "start_time": "2022-07-25T05:16:11.296121",
     "status": "completed"
    },
    "tags": []
   },
   "source": [
    "---\n",
    "\n",
    "\n",
    "\n",
    "\n",
    "*Have questions or comments? Visit the [course discussion forum](https://www.kaggle.com/learn/intro-to-programming/discussion) to chat with other learners.*"
   ]
  }
 ],
 "metadata": {
  "kernelspec": {
   "display_name": "Python 3",
   "language": "python",
   "name": "python3"
  },
  "language_info": {
   "codemirror_mode": {
    "name": "ipython",
    "version": 3
   },
   "file_extension": ".py",
   "mimetype": "text/x-python",
   "name": "python",
   "nbconvert_exporter": "python",
   "pygments_lexer": "ipython3",
   "version": "3.7.12"
  },
  "papermill": {
   "default_parameters": {},
   "duration": 11.898304,
   "end_time": "2022-07-25T05:16:12.036125",
   "environment_variables": {},
   "exception": null,
   "input_path": "__notebook__.ipynb",
   "output_path": "__notebook__.ipynb",
   "parameters": {},
   "start_time": "2022-07-25T05:16:00.137821",
   "version": "2.3.4"
  }
 },
 "nbformat": 4,
 "nbformat_minor": 5
}
